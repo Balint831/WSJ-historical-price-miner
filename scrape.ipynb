{
 "metadata": {
  "language_info": {
   "codemirror_mode": {
    "name": "ipython",
    "version": 3
   },
   "file_extension": ".py",
   "mimetype": "text/x-python",
   "name": "python",
   "nbconvert_exporter": "python",
   "pygments_lexer": "ipython3",
   "version": "3.7.6-final"
  },
  "orig_nbformat": 2,
  "kernelspec": {
   "name": "python3",
   "display_name": "Python 3"
  }
 },
 "nbformat": 4,
 "nbformat_minor": 2,
 "cells": [
  {
   "cell_type": "code",
   "execution_count": 18,
   "metadata": {},
   "outputs": [],
   "source": [
    "from urllib.request import Request, urlopen\n",
    "from bs4 import BeautifulSoup\n",
    "from io import StringIO\n",
    "import pandas as pd\n",
    "from datetime import datetime\n",
    "import numpy as np"
   ]
  },
  {
   "cell_type": "code",
   "execution_count": 27,
   "metadata": {
    "tags": []
   },
   "outputs": [],
   "source": [
    "\n",
    "\n",
    "def wsj_query(stock_name, start_date, end_date):\n",
    "\n",
    "    my_url = \"https://www.wsj.com/market-data/quotes/HU/XBUD/{stock_name}/historical-prices/download?MOD_VIEW=page&num_rows=3768.9583333333335&range_days=3768.9583333333335&startDate={start_date}&endDate={end_date}\".format(stock_name=stock_name, start_date=start_date, end_date=end_date)\n",
    "\n",
    "    #open connection, grab page, close connection\n",
    "    resp_obj = urlopen(Request(my_url,headers={'User-Agent': 'Mozilla/6.0'} ))\n",
    "    page_html = resp_obj.read()\n",
    "    resp_obj.close()\n",
    "\n",
    "    #,then convert to format that pandas can read\n",
    "    parsed_text = BeautifulSoup(page_html).body.p.text\n",
    "    text_obj = StringIO(parsed_text)\n",
    "\n",
    "    date_parser = lambda x: datetime.strptime(x, \"%m/%d/%y\").date()\n",
    "    oneYearDF = pd.read_csv(text_obj,parse_dates=[\"Date\"], date_parser = date_parser)\n",
    "    \n",
    "    return oneYearDF\n",
    "\n",
    "def calculcateReturns(column):\n",
    "    return column[1:].to_numpy() - column[:-1].to_numpy()"
   ]
  },
  {
   "cell_type": "code",
   "execution_count": 84,
   "metadata": {},
   "outputs": [],
   "source": [
    "stock_names = pd.read_csv(\"name_source.csv\",sep=\"\\t\")[\"Név\"].str.replace(\" \", \"\").to_list()\n",
    "[ stock_names.remove(x) for x in [\"APPENINN\",\"AUTOWALLIS\",\"CIGPANNONIA\",\"DUNAHOUSE\", \"ETFBUXOTP\", \"GSPARK\",\"MASTERPLAST\",\"MTELEKOM\",\"PANNERGY\",\"RICHTER\",\"WABERERS\"] ]\n",
    "[stock_names.append(x) for x in [\"ETFB\",\"APPEN\",\"AUTOW\",\"CIG\",\"GSP\",\"MAST\",\"MTEL\",\"PERGY\",\"RICHT\"]]\n",
    "\n",
    "\n",
    "for stock_name in stock_names:\n",
    "    years = np.arange(2010,2021)\n",
    "    mainDF = pd.DataFrame()\n",
    "    for year in years:\n",
    "        oneYearDF = wsj_query(stock_name = stock_name, start_date = \"01/01/{}\".format(year), end_date = \"12/31/{}\".format(year))\n",
    "        mainDF = pd.concat([mainDF, oneYearDF], ignore_index = True)\n",
    "    mainDF.columns = mainDF.columns.str.replace(' ', '')\n",
    "    mainDF.to_csv(\"data/historical/{}.csv\".format(stock_name))"
   ]
  },
  {
   "cell_type": "code",
   "execution_count": 83,
   "metadata": {},
   "outputs": [
    {
     "output_type": "execute_result",
     "data": {
      "text/plain": [
       "['4IG',\n",
       " 'ALTEO',\n",
       " 'ANY',\n",
       " 'BIF',\n",
       " 'MOL',\n",
       " 'OPUS',\n",
       " 'OTP',\n",
       " 'RABA',\n",
       " 'TAKAREKJZB',\n",
       " 'ZWACK',\n",
       " 'ETFB',\n",
       " 'APPEN',\n",
       " 'AUTOW',\n",
       " 'CIG',\n",
       " 'GSP',\n",
       " 'MAST',\n",
       " 'MTEL',\n",
       " 'PERGY',\n",
       " 'RICHT']"
      ]
     },
     "metadata": {},
     "execution_count": 83
    }
   ],
   "source": [
    "stock_names = pd.read_csv(\"name_source.csv\",sep=\"\\t\")[\"Név\"].str.replace(\" \", \"\").to_list()\n",
    "[ stock_names.remove(x) for x in [\"APPENINN\",\"AUTOWALLIS\",\"CIGPANNONIA\",\"DUNAHOUSE\", \"ETFBUXOTP\", \"GSPARK\",\"MASTERPLAST\",\"MTELEKOM\",\"PANNERGY\",\"RICHTER\",\"WABERERS\"] ]\n",
    "[stock_names.append(x) for x in [\"ETFB\",\"APPEN\",\"AUTOW\",\"CIG\",\"GSP\",\"MAST\",\"MTEL\",\"PERGY\",\"RICHT\"]]\n",
    "stock_names"
   ]
  },
  {
   "cell_type": "code",
   "execution_count": 67,
   "metadata": {},
   "outputs": [
    {
     "output_type": "execute_result",
     "data": {
      "text/plain": [
       "0             4IG \n",
       "1           ALTEO \n",
       "2             ANY \n",
       "3        APPENINN \n",
       "4      AUTOWALLIS \n",
       "5             BIF \n",
       "6     CIGPANNONIA \n",
       "7       DUNAHOUSE \n",
       "8       ETFBUXOTP \n",
       "9          GSPARK \n",
       "10    MASTERPLAST \n",
       "11            MOL \n",
       "12       MTELEKOM \n",
       "13           OPUS \n",
       "14            OTP \n",
       "15       PANNERGY \n",
       "16           RABA \n",
       "17        RICHTER \n",
       "18     TAKAREKJZB \n",
       "19       WABERERS \n",
       "20          ZWACK \n",
       "Name: Név, dtype: object"
      ]
     },
     "metadata": {},
     "execution_count": 67
    }
   ],
   "source": []
  }
 ]
}